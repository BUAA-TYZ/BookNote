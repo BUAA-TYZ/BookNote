{
 "cells": [
  {
   "cell_type": "markdown",
   "metadata": {},
   "source": [
    "## 第03章 字典和集合\n",
    "\n",
    "### 3.1 泛映射类型\n",
    "- 键必须是可散列的\n",
    "> 如果一个对象是可散列的，那么在这个对象的生命周期中，它\n",
    "的散列值是不变的，而且这个对象需要实现`__hash__()`。另外可散列对象还要有`__eq__()`，这样才能跟其他\n",
    "键做比较。如果两个可散列对象是相等的，那么它们的散列值一定是一样的……"
   ]
  },
  {
   "cell_type": "markdown",
   "metadata": {},
   "source": [
    "### 3.2 字典推导"
   ]
  },
  {
   "cell_type": "code",
   "execution_count": 3,
   "metadata": {},
   "outputs": [
    {
     "data": {
      "text/plain": [
       "({'China': 86,\n",
       "  'India': 91,\n",
       "  'United States': 1,\n",
       "  'Indonesia': 62,\n",
       "  'Brazil': 55,\n",
       "  'Pakistan': 92,\n",
       "  'Bangladesh': 880,\n",
       "  'Nigeria': 234,\n",
       "  'Russia': 7,\n",
       "  'Japan': 81},\n",
       " {1: 'United States', 62: 'Indonesia', 55: 'Brazil', 7: 'Russia'})"
      ]
     },
     "execution_count": 3,
     "metadata": {},
     "output_type": "execute_result"
    }
   ],
   "source": [
    "DIAL_CODES =  [\n",
    "  (86, 'China'),\n",
    "  (91, 'India'),\n",
    "  (1, 'United States'),\n",
    "  (62, 'Indonesia'),\n",
    "  (55, 'Brazil'),\n",
    "  (92, 'Pakistan'),\n",
    "  (880, 'Bangladesh'),\n",
    "  (234, 'Nigeria'),\n",
    "  (7, 'Russia'),\n",
    "  (81, 'Japan'),\n",
    "]\n",
    "\n",
    "country_code = {country: code for code, country in DIAL_CODES}\n",
    "country_code, {code: country for country, code in country_code.items() if code < 66}"
   ]
  },
  {
   "cell_type": "markdown",
   "metadata": {},
   "source": [
    "### 3.3 常见的映射方法\n",
    "\n",
    "| |dict|defaultdict||\n",
    "|:--:|:--:|:--:|:--:|\n",
    "|`d.clear()`|√|√||\n",
    "|`d.__contains__()`|√|√||\n",
    "|`d.copy()`|√|√|浅复制|\n",
    "|`d.copy()`||√|用于支持`copy.copy`|\n",
    "|`d.get(k, [default=None])`|√|√|返回值，如果没有则返回default|\n",
    "|`d.pop(k, [default=None])`|√|√|返回值并移除该键，如果没有则返回default|\n",
    "|`d.setdefault(k, [default=None])`|√|√|若k存在则返回值，否则创建(k, default)键值对并返回default|\n",
    "|`d.__getitem__(k)`|√|√|支持`d[k]`|\n",
    "|`d.items()`|√|√||\n",
    "|`d.keys()`|√|√||\n",
    "|`d.values()`|√|√||\n",
    "\n",
    "```python\n",
    "# 以下二者等价\n",
    "my_dict.setdefault(key, []).append(new_value)\n",
    "# ---\n",
    "if key not in my_dict:\n",
    "  my_dict[key] = []\n",
    "my_dict[key].append(new_value)\n",
    "```"
   ]
  },
  {
   "cell_type": "markdown",
   "metadata": {},
   "source": [
    "### 3.4 映射的弹性键查询\n",
    "\n",
    "#### 3.4.1 defaultdict: 处理找不到键的一个选择\n",
    "\n",
    "- 在实例化一个`defaultdict`时要给一个可调用对象。它会在`__getitem()__``找不到键时被调用\n",
    "\n",
    "#### 3.4.2 特殊方法__missing__\n",
    "PASS"
   ]
  },
  {
   "cell_type": "markdown",
   "metadata": {},
   "source": [
    "### 3.5 字典的变种\n",
    "- `collections.Counter()`\n",
    "  - 给每个键准备一个计数器"
   ]
  },
  {
   "cell_type": "code",
   "execution_count": 6,
   "metadata": {},
   "outputs": [
    {
     "data": {
      "text/plain": [
       "(Counter({'a': 5, 'b': 2, 'r': 2, 'd': 2, 'c': 1, 'e': 1, 'f': 1}),\n",
       " [('a', 5), ('b', 2), ('r', 2)])"
      ]
     },
     "execution_count": 6,
     "metadata": {},
     "output_type": "execute_result"
    }
   ],
   "source": [
    "from collections import Counter\n",
    "\n",
    "ct = Counter('abracadabra')\n",
    "ct.update('def')\n",
    "ct, ct.most_common(3)"
   ]
  },
  {
   "cell_type": "markdown",
   "metadata": {},
   "source": [
    "### 3.6 子类化UserDict\n",
    "### 3.7 不可变映射类型\n",
    "PASS"
   ]
  },
  {
   "cell_type": "markdown",
   "metadata": {},
   "source": [
    "### 3.8 集合论\n",
    "- 集合是唯一对象的聚集，可以用于去重"
   ]
  },
  {
   "cell_type": "markdown",
   "metadata": {},
   "source": [
    "#### 3.8.1 集合字面量\n",
    "- `{1, 2, 3}`\n",
    "\n",
    "#### 3.8.2 集合推导"
   ]
  },
  {
   "cell_type": "code",
   "execution_count": 8,
   "metadata": {},
   "outputs": [
    {
     "data": {
      "text/plain": [
       "set"
      ]
     },
     "execution_count": 8,
     "metadata": {},
     "output_type": "execute_result"
    }
   ],
   "source": [
    "type({i for i in range(10)})"
   ]
  },
  {
   "cell_type": "markdown",
   "metadata": {},
   "source": [
    "#### 3.8.3 集合的操作\n",
    "\n",
    "|数学符号|Python运算符|方法|运算符|\n",
    "|:--:|:--:|:--:|:--:|\n",
    "|$S\\cap Z$|`s & z`|`s.__and()__`|交集|\n",
    "|$S\\cup Z$|`s | z`|`s.__or()__`|并集|\n",
    "|$e\\in S$|`s in z`|`s.__contains()__`||\n",
    "|$S\\subset Z$|`s < z`|`s.__lt()__`|S是否为Z的真子集|\n",
    "|$S\\subseteq Z$|`s <= z`|`s.__le()__`|S是否为Z的子集|"
   ]
  },
  {
   "cell_type": "markdown",
   "metadata": {},
   "source": [
    "- 集合类型的其他方法\n",
    "\n",
    "||set|frozenset||\n",
    "|:--:|:--:|:--:|:--:|\n",
    "|`s.add(e)`|√|||\n",
    "|`s.clear()`|√|√||\n",
    "|`s.discard(e)`|√| |如果有e则移除|\n",
    "|`s.remove(e)`|√| |如果有e则移除，否则异常|\n"
   ]
  },
  {
   "cell_type": "markdown",
   "metadata": {},
   "source": [
    "### 3.9 dict set的背后\n",
    "PASS"
   ]
  }
 ],
 "metadata": {
  "kernelspec": {
   "display_name": "base",
   "language": "python",
   "name": "python3"
  },
  "language_info": {
   "codemirror_mode": {
    "name": "ipython",
    "version": 3
   },
   "file_extension": ".py",
   "mimetype": "text/x-python",
   "name": "python",
   "nbconvert_exporter": "python",
   "pygments_lexer": "ipython3",
   "version": "3.11.5"
  }
 },
 "nbformat": 4,
 "nbformat_minor": 2
}
