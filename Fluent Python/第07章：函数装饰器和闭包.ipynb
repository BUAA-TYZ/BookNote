{
 "cells": [
  {
   "cell_type": "markdown",
   "metadata": {},
   "source": [
    "## 第07章 函数装饰器和闭包\n",
    "\n",
    "### 7.1 装饰器基本知识\n",
    "\n",
    "- 装饰器是可调用对象，其参数是另一个函数\n",
    "- 假如有个名为decorate的装饰器\n",
    "\n",
    "```python\n",
    "@decorate\n",
    "def target():\n",
    "  print('running target()')\n",
    "\n",
    "# 等价于\n",
    "def target():\n",
    "  print('running target()')\n",
    "target = decorate(target)\n",
    "```"
   ]
  },
  {
   "cell_type": "code",
   "execution_count": 1,
   "metadata": {},
   "outputs": [],
   "source": [
    "def deco(func):\n",
    "  def inner():\n",
    "    print('running inner()')\n",
    "  return inner\n",
    "\n",
    "@deco\n",
    "def target():\n",
    "  print('running target()')"
   ]
  },
  {
   "cell_type": "code",
   "execution_count": 3,
   "metadata": {},
   "outputs": [
    {
     "name": "stdout",
     "output_type": "stream",
     "text": [
      "running inner()\n"
     ]
    },
    {
     "data": {
      "text/plain": [
       "(None, <function __main__.deco.<locals>.inner()>)"
      ]
     },
     "execution_count": 3,
     "metadata": {},
     "output_type": "execute_result"
    }
   ],
   "source": [
    "target(), target"
   ]
  },
  {
   "cell_type": "markdown",
   "metadata": {},
   "source": [
    "- 严格来说，装饰器只是语法糖\n",
    "- 装饰器的一大特性是把被装饰的函数替换为其他函数(e.g. `target()`->`inner()`)"
   ]
  },
  {
   "cell_type": "markdown",
   "metadata": {},
   "source": [
    "### 7.2 Python何时执行装饰器\n",
    "- 被装饰函数定义后立即执行，通常是加载的时候"
   ]
  },
  {
   "cell_type": "code",
   "execution_count": 6,
   "metadata": {},
   "outputs": [
    {
     "name": "stdout",
     "output_type": "stream",
     "text": [
      "running register(<function f1 at 0x0000017B637EB880>)\n",
      "running register(<function f2 at 0x0000017B6383BEC0>)\n"
     ]
    }
   ],
   "source": [
    "registry = []\n",
    "\n",
    "def register(func):\n",
    "  print(f'running register({func})')\n",
    "  registry.append(func)\n",
    "  return func\n",
    "\n",
    "@register\n",
    "def f1():\n",
    "  print('running f1()')\n",
    "\n",
    "@register\n",
    "def f2():\n",
    "  print('running f2()')"
   ]
  },
  {
   "cell_type": "markdown",
   "metadata": {},
   "source": [
    "### 7.4 变量作用域规则\n",
    "\n",
    "- python判断`b`是局部变量，所以报错"
   ]
  },
  {
   "cell_type": "code",
   "execution_count": 8,
   "metadata": {},
   "outputs": [
    {
     "ename": "UnboundLocalError",
     "evalue": "cannot access local variable 'b' where it is not associated with a value",
     "output_type": "error",
     "traceback": [
      "\u001b[1;31m---------------------------------------------------------------------------\u001b[0m",
      "\u001b[1;31mUnboundLocalError\u001b[0m                         Traceback (most recent call last)",
      "Cell \u001b[1;32mIn[8], line 5\u001b[0m\n\u001b[0;32m      3\u001b[0m   \u001b[38;5;28mprint\u001b[39m(b)\n\u001b[0;32m      4\u001b[0m   b \u001b[38;5;241m=\u001b[39m \u001b[38;5;241m9\u001b[39m\n\u001b[1;32m----> 5\u001b[0m f1()\n",
      "Cell \u001b[1;32mIn[8], line 3\u001b[0m, in \u001b[0;36mf1\u001b[1;34m()\u001b[0m\n\u001b[0;32m      2\u001b[0m \u001b[38;5;28;01mdef\u001b[39;00m \u001b[38;5;21mf1\u001b[39m():\n\u001b[1;32m----> 3\u001b[0m   \u001b[38;5;28mprint\u001b[39m(b)\n\u001b[0;32m      4\u001b[0m   b \u001b[38;5;241m=\u001b[39m \u001b[38;5;241m9\u001b[39m\n",
      "\u001b[1;31mUnboundLocalError\u001b[0m: cannot access local variable 'b' where it is not associated with a value"
     ]
    }
   ],
   "source": [
    "b = 6\n",
    "def f1():\n",
    "  print(b)\n",
    "  b = 9\n",
    "f1()"
   ]
  },
  {
   "cell_type": "code",
   "execution_count": 9,
   "metadata": {},
   "outputs": [
    {
     "name": "stdout",
     "output_type": "stream",
     "text": [
      "6\n"
     ]
    }
   ],
   "source": [
    "b = 6\n",
    "def f1():\n",
    "  global b\n",
    "  print(b)\n",
    "  b = 9\n",
    "f1()"
   ]
  },
  {
   "cell_type": "markdown",
   "metadata": {},
   "source": [
    "### 7.5 闭包\n",
    "- 闭包指延伸了作用域的函数，能访问定义域之外的非全局变量\n",
    "- 与匿名函数容易弄混"
   ]
  },
  {
   "cell_type": "code",
   "execution_count": 10,
   "metadata": {},
   "outputs": [
    {
     "data": {
      "text/plain": [
       "(10.0, 10.5, 11.0)"
      ]
     },
     "execution_count": 10,
     "metadata": {},
     "output_type": "execute_result"
    }
   ],
   "source": [
    "def make_averager():\n",
    "  series = []\n",
    "\n",
    "  def averager(val):\n",
    "    series.append(val)\n",
    "    return sum(series) / len(series)\n",
    "  return averager\n",
    "avg = make_averager()\n",
    "avg(10), avg(11), avg(12)"
   ]
  },
  {
   "cell_type": "markdown",
   "metadata": {},
   "source": [
    "- 在`averager`中，series是自由变量。\n",
    "  - free variable: 指未在本地作用域内绑定的变量"
   ]
  },
  {
   "cell_type": "markdown",
   "metadata": {},
   "source": [
    "### 7.6 nonlocal声明"
   ]
  },
  {
   "cell_type": "code",
   "execution_count": 12,
   "metadata": {},
   "outputs": [
    {
     "ename": "UnboundLocalError",
     "evalue": "cannot access local variable 'count' where it is not associated with a value",
     "output_type": "error",
     "traceback": [
      "\u001b[1;31m---------------------------------------------------------------------------\u001b[0m",
      "\u001b[1;31mUnboundLocalError\u001b[0m                         Traceback (most recent call last)",
      "Cell \u001b[1;32mIn[12], line 10\u001b[0m\n\u001b[0;32m      8\u001b[0m   \u001b[38;5;28;01mreturn\u001b[39;00m averager\n\u001b[0;32m      9\u001b[0m avg \u001b[38;5;241m=\u001b[39m make_averager()\n\u001b[1;32m---> 10\u001b[0m avg(\u001b[38;5;241m10\u001b[39m)\n",
      "Cell \u001b[1;32mIn[12], line 5\u001b[0m, in \u001b[0;36mmake_averager.<locals>.averager\u001b[1;34m(new_value)\u001b[0m\n\u001b[0;32m      4\u001b[0m \u001b[38;5;28;01mdef\u001b[39;00m \u001b[38;5;21maverager\u001b[39m(new_value):\n\u001b[1;32m----> 5\u001b[0m   count \u001b[38;5;241m+\u001b[39m\u001b[38;5;241m=\u001b[39m \u001b[38;5;241m1\u001b[39m\n\u001b[0;32m      6\u001b[0m   total \u001b[38;5;241m+\u001b[39m\u001b[38;5;241m=\u001b[39m new_value\n\u001b[0;32m      7\u001b[0m   \u001b[38;5;28;01mreturn\u001b[39;00m total \u001b[38;5;241m/\u001b[39m count\n",
      "\u001b[1;31mUnboundLocalError\u001b[0m: cannot access local variable 'count' where it is not associated with a value"
     ]
    }
   ],
   "source": [
    "def make_averager():\n",
    "  count = 0\n",
    "  total = 0\n",
    "  def averager(new_value):\n",
    "    count += 1\n",
    "    total += new_value\n",
    "    return total / count\n",
    "  return averager\n",
    "avg = make_averager()\n",
    "avg(10)"
   ]
  },
  {
   "cell_type": "markdown",
   "metadata": {},
   "source": [
    "- count 是数字或任何不可变类型。当我们赋值的时候会把count变成局部变量\n",
    "- `nonlocal`将某个变量声明为自由变量"
   ]
  },
  {
   "cell_type": "code",
   "execution_count": 13,
   "metadata": {},
   "outputs": [
    {
     "data": {
      "text/plain": [
       "(10.0, 10.5, 11.0)"
      ]
     },
     "execution_count": 13,
     "metadata": {},
     "output_type": "execute_result"
    }
   ],
   "source": [
    "def make_averager():\n",
    "  count = 0\n",
    "  total = 0\n",
    "  def averager(new_value):\n",
    "    nonlocal count, total\n",
    "    count += 1\n",
    "    total += new_value\n",
    "    return total / count\n",
    "  return averager\n",
    "avg = make_averager()\n",
    "avg(10), avg(11), avg(12)"
   ]
  },
  {
   "cell_type": "markdown",
   "metadata": {},
   "source": [
    "### 7.7 实现一个简单的装饰器"
   ]
  },
  {
   "cell_type": "code",
   "execution_count": 48,
   "metadata": {},
   "outputs": [],
   "source": [
    "import time\n",
    "\n",
    "def clock(func):\n",
    "  def clocked(*args):\n",
    "    t0 = time.perf_counter()\n",
    "    result = func(*args) \n",
    "    elapsed = time.perf_counter() - t0\n",
    "    name = func.__name__\n",
    "    arg_str = ', '.join(repr(arg) for arg in args)\n",
    "    print('[%0.8fs] %s(%s) -> %r' % (elapsed, name, arg_str, result))\n",
    "    return result\n",
    "  return clocked"
   ]
  },
  {
   "cell_type": "code",
   "execution_count": 49,
   "metadata": {},
   "outputs": [
    {
     "name": "stdout",
     "output_type": "stream",
     "text": [
      "[0.00000060s] factorial(1) -> 1\n",
      "[0.00013600s] factorial(2) -> 2\n",
      "[0.00015160s] factorial(3) -> 6\n",
      "[0.00015810s] factorial(4) -> 24\n",
      "[0.00016350s] factorial(5) -> 120\n",
      "[0.00016990s] factorial(6) -> 720\n"
     ]
    },
    {
     "data": {
      "text/plain": [
       "720"
      ]
     },
     "execution_count": 49,
     "metadata": {},
     "output_type": "execute_result"
    }
   ],
   "source": [
    "@clock\n",
    "def factorial(n):\n",
    "  '''Return n!'''\n",
    "  return 1 if n < 2 else n * factorial(n - 1)\n",
    "\n",
    "factorial(6)"
   ]
  },
  {
   "cell_type": "code",
   "execution_count": 50,
   "metadata": {},
   "outputs": [
    {
     "data": {
      "text/plain": [
       "('clocked', None)"
      ]
     },
     "execution_count": 50,
     "metadata": {},
     "output_type": "execute_result"
    }
   ],
   "source": [
    "factorial.__name__, factorial.__doc__"
   ]
  },
  {
   "cell_type": "markdown",
   "metadata": {},
   "source": [
    "- 这个简单的装饰器遮蔽了`__name__` `__doc__`\n",
    "- 并且其不能处理关键字参数\n",
    "- 使用`functools.wrap`把相关属性从func复制到clocked"
   ]
  },
  {
   "cell_type": "code",
   "execution_count": 59,
   "metadata": {},
   "outputs": [],
   "source": [
    "import time\n",
    "import functools\n",
    "def clock(func):\n",
    "  @functools.wraps(func)\n",
    "  def clocked(*args, **kwargs):\n",
    "    t0 = time.perf_counter()\n",
    "    result = func(*args, **kwargs)\n",
    "    elapsed = time.perf_counter() - t0\n",
    "    name = func.__name__\n",
    "    arg_lst = []\n",
    "    if args:\n",
    "      arg_lst.append(', '.join(repr(arg) for arg in args))\n",
    "    if kwargs:\n",
    "      pairs = [f'{k}={w}' for k, w in sorted(kwargs.items())]\n",
    "      arg_lst.append(', '.join(pairs))\n",
    "    arg_str = ', '.join(arg_lst)\n",
    "    print(f'[{elapsed:0.8f}s] {name}({arg_str}) -> {result} ')\n",
    "    return result\n",
    "  return clocked"
   ]
  },
  {
   "cell_type": "code",
   "execution_count": 60,
   "metadata": {},
   "outputs": [
    {
     "name": "stdout",
     "output_type": "stream",
     "text": [
      "[0.00000080s] factorial(1) -> 1 \n",
      "[0.00021190s] factorial(2) -> 2 \n",
      "[0.00024190s] factorial(3) -> 6 \n",
      "[0.00025480s] factorial(4) -> 24 \n",
      "[0.00026670s] factorial(5) -> 120 \n",
      "[0.00027900s] factorial(6) -> 720 \n"
     ]
    },
    {
     "data": {
      "text/plain": [
       "720"
      ]
     },
     "execution_count": 60,
     "metadata": {},
     "output_type": "execute_result"
    }
   ],
   "source": [
    "@clock\n",
    "def factorial(n):\n",
    "  '''Return n!'''\n",
    "  return 1 if n < 2 else n * factorial(n - 1)\n",
    "\n",
    "factorial(6)"
   ]
  },
  {
   "cell_type": "code",
   "execution_count": 23,
   "metadata": {},
   "outputs": [
    {
     "data": {
      "text/plain": [
       "('factorial', 'Return n!')"
      ]
     },
     "execution_count": 23,
     "metadata": {},
     "output_type": "execute_result"
    }
   ],
   "source": [
    "factorial.__name__, factorial.__doc__"
   ]
  },
  {
   "cell_type": "markdown",
   "metadata": {},
   "source": [
    "### 7.8 标准库中的装饰器\n",
    "\n",
    "#### 7.8.1 使用functools.lru_cache做备忘\n",
    "- 缓存键要是可散列的，因为内部使用字典\n",
    "- 接受maxsize参数, max_size应该是2的幂"
   ]
  },
  {
   "cell_type": "code",
   "execution_count": 68,
   "metadata": {},
   "outputs": [
    {
     "name": "stdout",
     "output_type": "stream",
     "text": [
      "[0.00000040s] fibonacci(0) -> 0 \n",
      "[0.00000040s] fibonacci(1) -> 1 \n",
      "[0.00006100s] fibonacci(2) -> 1 \n",
      "[0.00000020s] fibonacci(1) -> 1 \n",
      "[0.00000030s] fibonacci(0) -> 0 \n",
      "[0.00000030s] fibonacci(1) -> 1 \n",
      "[0.00000990s] fibonacci(2) -> 1 \n",
      "[0.00001910s] fibonacci(3) -> 2 \n",
      "[0.00008910s] fibonacci(4) -> 3 \n",
      "[0.00000020s] fibonacci(1) -> 1 \n",
      "[0.00000020s] fibonacci(0) -> 0 \n",
      "[0.00000020s] fibonacci(1) -> 1 \n",
      "[0.00000870s] fibonacci(2) -> 1 \n",
      "[0.00002030s] fibonacci(3) -> 2 \n",
      "[0.00000020s] fibonacci(0) -> 0 \n",
      "[0.00000020s] fibonacci(1) -> 1 \n",
      "[0.00000870s] fibonacci(2) -> 1 \n",
      "[0.00000020s] fibonacci(1) -> 1 \n",
      "[0.00000020s] fibonacci(0) -> 0 \n",
      "[0.00000020s] fibonacci(1) -> 1 \n",
      "[0.00000880s] fibonacci(2) -> 1 \n",
      "[0.00001760s] fibonacci(3) -> 2 \n",
      "[0.00003480s] fibonacci(4) -> 3 \n",
      "[0.00006350s] fibonacci(5) -> 5 \n",
      "[0.00016190s] fibonacci(6) -> 8 \n"
     ]
    },
    {
     "data": {
      "text/plain": [
       "8"
      ]
     },
     "execution_count": 68,
     "metadata": {},
     "output_type": "execute_result"
    }
   ],
   "source": [
    "@clock\n",
    "def fibonacci(n):\n",
    "  if n < 2:\n",
    "    return n\n",
    "  return fibonacci(n - 2) + fibonacci(n - 1)\n",
    "fibonacci(6)"
   ]
  },
  {
   "cell_type": "code",
   "execution_count": 69,
   "metadata": {},
   "outputs": [
    {
     "name": "stdout",
     "output_type": "stream",
     "text": [
      "[0.00000060s] fibonacci(0) -> 0 \n",
      "[0.00000040s] fibonacci(1) -> 1 \n",
      "[0.00005740s] fibonacci(2) -> 1 \n",
      "[0.00000050s] fibonacci(3) -> 2 \n",
      "[0.00006760s] fibonacci(4) -> 3 \n",
      "[0.00000040s] fibonacci(5) -> 5 \n",
      "[0.00007860s] fibonacci(6) -> 8 \n"
     ]
    },
    {
     "data": {
      "text/plain": [
       "8"
      ]
     },
     "execution_count": 69,
     "metadata": {},
     "output_type": "execute_result"
    }
   ],
   "source": [
    "@functools.lru_cache(maxsize=128)\n",
    "@clock\n",
    "def fibonacci(n):\n",
    "  if n < 2:\n",
    "    return n\n",
    "  return fibonacci(n - 2) + fibonacci(n - 1)\n",
    "fibonacci(6)"
   ]
  },
  {
   "cell_type": "markdown",
   "metadata": {},
   "source": []
  }
 ],
 "metadata": {
  "kernelspec": {
   "display_name": "base",
   "language": "python",
   "name": "python3"
  },
  "language_info": {
   "codemirror_mode": {
    "name": "ipython",
    "version": 3
   },
   "file_extension": ".py",
   "mimetype": "text/x-python",
   "name": "python",
   "nbconvert_exporter": "python",
   "pygments_lexer": "ipython3",
   "version": "3.11.5"
  }
 },
 "nbformat": 4,
 "nbformat_minor": 2
}
