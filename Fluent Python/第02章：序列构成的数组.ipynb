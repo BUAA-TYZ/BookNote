{
 "cells": [
  {
   "cell_type": "markdown",
   "metadata": {},
   "source": [
    "## 第02章 序列构成的数组\n",
    "\n",
    "### 2.1 内置序列类型概览\n",
    "\n",
    "- 容器序列\n",
    "  - `list` `tuple` `collections.deque`...\n",
    "  - 存放任意类型对象的引用\n",
    "- 扁平序列\n",
    "  - `str` `bytes` `array.array`...\n",
    "  - 存放值而非引用，只能容纳一种类型\n"
   ]
  },
  {
   "cell_type": "markdown",
   "metadata": {},
   "source": [
    "### 2.2 列表推导和生成器表达式\n",
    "\n",
    "#### 2.2.1 列表推导和可读性"
   ]
  },
  {
   "cell_type": "code",
   "execution_count": 2,
   "metadata": {},
   "outputs": [
    {
     "data": {
      "text/plain": [
       "[36, 162, 163, 165, 8364, 164]"
      ]
     },
     "execution_count": 2,
     "metadata": {},
     "output_type": "execute_result"
    }
   ],
   "source": [
    "symbols = '$¢£¥€¤'\n",
    "\n",
    "# codes = []\n",
    "# for symbol in symbols:\n",
    "#   codes.append(ord(symbol))\n",
    "codes = [ord(symbol) for symbol in symbols]\n",
    "codes"
   ]
  },
  {
   "cell_type": "markdown",
   "metadata": {},
   "source": [
    "- 用列表推导创建新的列表\n",
    "- 保持简短，如果过长考虑用`for`\n",
    "- 列表推导拥有自己的局部作用域，所以不会影响外部变量"
   ]
  },
  {
   "cell_type": "markdown",
   "metadata": {},
   "source": [
    "#### 2.2.3 列表推导生成笛卡尔积"
   ]
  },
  {
   "cell_type": "code",
   "execution_count": 3,
   "metadata": {},
   "outputs": [
    {
     "data": {
      "text/plain": [
       "[('black', 'S'),\n",
       " ('black', 'M'),\n",
       " ('black', 'L'),\n",
       " ('white', 'S'),\n",
       " ('white', 'M'),\n",
       " ('white', 'L')]"
      ]
     },
     "execution_count": 3,
     "metadata": {},
     "output_type": "execute_result"
    }
   ],
   "source": [
    "colors = ['black', 'white']\n",
    "sizes = ['S', 'M', 'L']\n",
    "tshirts = [(color, size) for color in colors for size in sizes]\n",
    "tshirts"
   ]
  },
  {
   "cell_type": "markdown",
   "metadata": {},
   "source": [
    "- 注意`for`的顺序，第一个`for`为外层的`for`符合我们的直觉\n",
    "- 列表推导只能生成列表，下面的生成器表达式可以生成其他类型的序列"
   ]
  },
  {
   "cell_type": "markdown",
   "metadata": {},
   "source": [
    "#### 2.2.4 生成器表达式\n",
    "- 生成器表达式遵循迭代器协议，逐个地产出元素而不是直接建立一个完整的列表\n",
    "- 将[]改为()"
   ]
  },
  {
   "cell_type": "code",
   "execution_count": 7,
   "metadata": {},
   "outputs": [
    {
     "name": "stdout",
     "output_type": "stream",
     "text": [
      "black S\n",
      "black M\n",
      "black L\n",
      "white S\n",
      "white M\n",
      "white L\n"
     ]
    }
   ],
   "source": [
    "colors = ['black', 'white']\n",
    "sizes = ['S', 'M', 'L']\n",
    "for desp in (f'{c} {s}' for c in colors for s in sizes):\n",
    "  print(desp)"
   ]
  },
  {
   "cell_type": "code",
   "execution_count": 8,
   "metadata": {},
   "outputs": [
    {
     "data": {
      "text/plain": [
       "(36, 162, 163, 165, 8364, 164)"
      ]
     },
     "execution_count": 8,
     "metadata": {},
     "output_type": "execute_result"
    }
   ],
   "source": [
    "tuple(ord(symbol) for symbol in symbols)"
   ]
  },
  {
   "cell_type": "markdown",
   "metadata": {},
   "source": [
    "### 2.3 元组不仅是不可变的列表\n",
    "\n",
    "#### 2.3.1 元组和记录\n",
    "- 元组的信息跟位置有关"
   ]
  },
  {
   "cell_type": "markdown",
   "metadata": {},
   "source": [
    "#### 2.3.2 元组拆包\n",
    "- 元组拆包可以应用到任何可迭代对象上"
   ]
  },
  {
   "cell_type": "code",
   "execution_count": 9,
   "metadata": {},
   "outputs": [
    {
     "data": {
      "text/plain": [
       "(33.9425, -118.408056)"
      ]
     },
     "execution_count": 9,
     "metadata": {},
     "output_type": "execute_result"
    }
   ],
   "source": [
    "lax_coordinates = (33.9425, -118.408056)\n",
    "latitude, longitude = lax_coordinates\n",
    "latitude, longitude"
   ]
  },
  {
   "cell_type": "markdown",
   "metadata": {},
   "source": [
    "- 还可以用`*`展开可迭代对象作为函数参数"
   ]
  },
  {
   "cell_type": "code",
   "execution_count": 11,
   "metadata": {},
   "outputs": [
    {
     "data": {
      "text/plain": [
       "(2, 4)"
      ]
     },
     "execution_count": 11,
     "metadata": {},
     "output_type": "execute_result"
    }
   ],
   "source": [
    "tmp = (20, 8)\n",
    "quotient, remainder = divmod(*tmp)\n",
    "quotient, remainder"
   ]
  },
  {
   "cell_type": "markdown",
   "metadata": {},
   "source": [
    "- 元组拆包的用法可以用于函数返回值"
   ]
  },
  {
   "cell_type": "code",
   "execution_count": 12,
   "metadata": {},
   "outputs": [
    {
     "data": {
      "text/plain": [
       "'idrsa.pub'"
      ]
     },
     "execution_count": 12,
     "metadata": {},
     "output_type": "execute_result"
    }
   ],
   "source": [
    "import os\n",
    "_, filename = os.path.split('/home/luciano/.ssh/idrsa.pub')\n",
    "filename"
   ]
  },
  {
   "cell_type": "markdown",
   "metadata": {},
   "source": [
    "- 可以用`*`来处理剩余元素"
   ]
  },
  {
   "cell_type": "code",
   "execution_count": 16,
   "metadata": {},
   "outputs": [
    {
     "name": "stdout",
     "output_type": "stream",
     "text": [
      "0 1 [2, 3, 4]\n",
      "0 1 [2]\n",
      "0 1 []\n",
      "0 1 []\n",
      "0 4 [1, 2, 3]\n"
     ]
    }
   ],
   "source": [
    "a, b, *rest = range(5)\n",
    "print(a, b, rest)\n",
    "a, b, *rest = range(3)\n",
    "print(a, b, rest)\n",
    "a, b, *rest = range(2)\n",
    "print(a, b, rest)\n",
    "a, *rest, b = range(2)\n",
    "print(a, b, rest)\n",
    "a, *rest, b = range(5)\n",
    "print(a, b, rest)"
   ]
  },
  {
   "cell_type": "markdown",
   "metadata": {},
   "source": [
    "#### 2.3.3 嵌套元组拆包\n",
    "- `(a, b, (c, d))`只要书写正确也可以被正确的被拆包"
   ]
  },
  {
   "cell_type": "code",
   "execution_count": 18,
   "metadata": {},
   "outputs": [
    {
     "name": "stdout",
     "output_type": "stream",
     "text": [
      "                |   lat.    |   long.  \n",
      "Mexico City     |   19.4333 |  -99.1333\n",
      "New York-Newark |   40.8086 |  -74.0204\n",
      "Sao Paulo       |  -23.5478 |  -46.6358\n"
     ]
    }
   ],
   "source": [
    "metro_areas = [\n",
    "  ('Tokyo','JP',36.933,(35.689722,139.691667)),\n",
    "  ('Delhi NCR', 'IN', 21.935, (28.613889, 77.208889)),\n",
    "  ('Mexico City', 'MX', 20.142, (19.433333, -99.133333)),\n",
    "  ('New York-Newark', 'US', 20.104, (40.808611, -74.020386)),\n",
    "  ('Sao Paulo', 'BR', 19.649, (-23.547778, -46.635833)),\n",
    "]\n",
    "print('{:15} | {:^9} | {:^9}'.format('', 'lat.', 'long.'))\n",
    "fmt = '{:15} | {:9.4f} | {:9.4f}'\n",
    "for name, cc, pop, (latitude, longitude) in metro_areas:\n",
    "  if longitude <= 0:\n",
    "    print(fmt.format(name, latitude, longitude))"
   ]
  },
  {
   "cell_type": "markdown",
   "metadata": {},
   "source": [
    "#### 2.3.4 具名元组\n",
    "PASS"
   ]
  },
  {
   "cell_type": "markdown",
   "metadata": {},
   "source": [
    "#### 2.3.5 作为不可变列表的元组\n",
    "\n",
    "- 表格左对齐 `:--` 居中 `:--:` 右对齐 `--:`\n",
    "\n",
    "- 列表元组方法对比，很多特性因为元组不可变所以是可以预见的\n",
    "\n",
    "| |列表|元组| |\n",
    "|:--:|:--:|:--:|:--:|\n",
    "|`s.__add__(s2)`|√|√|拼接|\n",
    "|`s.__iadd__(s2)`|√| |就地拼接|\n",
    "|`s.append(e)`|√| |尾部添加|\n",
    "|`s.clear()`|√| ||\n",
    "|`s.__containes__(e)`|√|√|是否包含元素`e`|\n",
    "|`s.count(e)`|√|√|统计次数|\n",
    "|`s.index(e)`|√|√|找到元素`e`第一次出现的位置|\n",
    "|`s.__iter__()`|√|√| |\n",
    "|`s.__len__()`|√|√| |"
   ]
  },
  {
   "cell_type": "markdown",
   "metadata": {},
   "source": [
    "### 2.4 切片\n",
    "\n",
    "#### 2.4.1 为什么切片和区间会忽略最后一个元素\n",
    "- 快速看出长度\n",
    "- 分割非常自然：`l[:3] l[3:]`"
   ]
  },
  {
   "cell_type": "markdown",
   "metadata": {},
   "source": [
    "#### 2.4.2 对对象进行切片\n",
    "- `s[a:b:c]` 在a和b之间以c为间隔取值"
   ]
  },
  {
   "cell_type": "code",
   "execution_count": 20,
   "metadata": {},
   "outputs": [
    {
     "data": {
      "text/plain": [
       "('bye', 'elcycib', 'eccb')"
      ]
     },
     "execution_count": 20,
     "metadata": {},
     "output_type": "execute_result"
    }
   ],
   "source": [
    "s = 'bicycle'\n",
    "s[::3], s[::-1], s[::-2]"
   ]
  },
  {
   "cell_type": "markdown",
   "metadata": {},
   "source": [
    "#### 2.4.3 多维切片和省略\n",
    "- 在**numpy**和**pandas**中广泛使用"
   ]
  },
  {
   "cell_type": "markdown",
   "metadata": {},
   "source": [
    "#### 2.4.4 给切片赋值"
   ]
  },
  {
   "cell_type": "code",
   "execution_count": 28,
   "metadata": {},
   "outputs": [
    {
     "name": "stdout",
     "output_type": "stream",
     "text": [
      "[0, 1, 20, 30, 5, 6, 7, 8, 9]\n",
      "[0, 1, 20, 30, 5, 8, 9]\n",
      "[0, 1, 20, 11, 5, 22, 9]\n",
      "[0, 1, 100, 22, 9]\n"
     ]
    }
   ],
   "source": [
    "l = list(range(10))\n",
    "l[2:5] = [20, 30]\n",
    "print(l)\n",
    "del l[5:7]\n",
    "print(l)\n",
    "l[3::2] = [11, 22]\n",
    "print(l)\n",
    "l[2:5] = [100]\n",
    "print(l)"
   ]
  },
  {
   "cell_type": "markdown",
   "metadata": {},
   "source": [
    "### 2.5 对序列使用+和*\n",
    "- `+` `*` 都不修改原对象而是产生新序列\n",
    "\n",
    "> 如果在 a * n 这个语句中，序列 a 里的元素是对其他可变\n",
    "对象的引用的话，你就需要格外注意了，因为这个式子的结果可能\n",
    "会出乎意料。比如，你想用 `my_list = [[]] * 3` 来初始化一个\n",
    "由列表组成的列表，但是你得到的列表里包含的 3 个元素其实是 3\n",
    "个引用，而且这 3 个引用指向的都是同一个列表。这可能不是你想\n",
    "要的效果。"
   ]
  },
  {
   "cell_type": "code",
   "execution_count": 31,
   "metadata": {},
   "outputs": [
    {
     "data": {
      "text/plain": [
       "[['_', '_', '_'], ['_', '_', 'X'], ['_', '_', '_']]"
      ]
     },
     "execution_count": 31,
     "metadata": {},
     "output_type": "execute_result"
    }
   ],
   "source": [
    "board = [['_'] * 3 for _ in range(3)] \n",
    "board[1][2] = 'X'\n",
    "board"
   ]
  },
  {
   "cell_type": "code",
   "execution_count": 32,
   "metadata": {},
   "outputs": [
    {
     "data": {
      "text/plain": [
       "[['_', '_', 'X'], ['_', '_', 'X'], ['_', '_', 'X']]"
      ]
     },
     "execution_count": 32,
     "metadata": {},
     "output_type": "execute_result"
    }
   ],
   "source": [
    "board = [['_'] * 3] * 3\n",
    "board[1][2] = 'X'\n",
    "board"
   ]
  },
  {
   "cell_type": "markdown",
   "metadata": {},
   "source": [
    "### 2.6 序列的增量赋值\n",
    "- 就地改动"
   ]
  },
  {
   "cell_type": "markdown",
   "metadata": {},
   "source": [
    "### 2.7 list.sort方法和内置函数sorted\n",
    "- `list.sort`就地排序而不是新返回一个列表\n",
    "  - 因此其返回`None`，在Python中如果就地改动就返回`None`\n",
    "  - 返回`None`不利于串联调用\n",
    "- `sorted`会返回一个新列表\n",
    "  - 它接受任何可迭代对象，包括不可变序列和生成器，但只返回列表\n",
    "- 它们都包括两个参数\n",
    "  1. `reverse`\n",
    "  2. `key`: 一个只有一个参数的函数"
   ]
  },
  {
   "cell_type": "code",
   "execution_count": 33,
   "metadata": {},
   "outputs": [
    {
     "name": "stdout",
     "output_type": "stream",
     "text": [
      "['apple', 'banana', 'grape', 'raspberry']\n",
      "['grape', 'apple', 'banana', 'raspberry']\n",
      "['raspberry', 'grape', 'banana', 'apple']\n"
     ]
    }
   ],
   "source": [
    "fruits = ['grape', 'raspberry', 'apple', 'banana']\n",
    "print(sorted(fruits))\n",
    "print(sorted(fruits, key = len))\n",
    "print(sorted(fruits, reverse=True))"
   ]
  },
  {
   "cell_type": "markdown",
   "metadata": {},
   "source": [
    "### 2.8 用bisect来管理已排序的序列\n",
    "\n",
    "#### 2.8.1 用bisect来搜索\n",
    "- `bisect_left`: 第一个大于等于的位置\n",
    "- `bisect_right`: 第一个大于的位置\n",
    "  - `lo`: 默认为0\n",
    "  - `hi`: 默认为序列长度\n",
    "  - `key`: 将序列每个元素都运行`key`函数后寻找值"
   ]
  },
  {
   "cell_type": "code",
   "execution_count": 39,
   "metadata": {},
   "outputs": [
    {
     "name": "stdout",
     "output_type": "stream",
     "text": [
      "[0, 0, 2, 3, 4, 6, 6, 8, 9, 10, 12, 12, 14, 15, 16, 18, 18]\n",
      "5\n",
      "7\n",
      "10\n"
     ]
    }
   ],
   "source": [
    "import bisect\n",
    "\n",
    "l = sorted(list(range(0, 20, 2)) + list(range(0, 20, 3)))\n",
    "print(l)\n",
    "print(bisect.bisect_left(l, 6))\n",
    "print(bisect.bisect_right(l, 6))\n",
    "print(bisect.bisect_left(l, 6, lo=10))"
   ]
  },
  {
   "cell_type": "markdown",
   "metadata": {},
   "source": [
    "> 给定一个含有`n`个正整数的数组和一个正整数`target`。\n",
    "找出该数组中满足其总和大于等于`target`的长度最小的连续子数组\n",
    "$[nums_l, nums_{l+1}, ..., nums_{r-1}, nums_r]$，并返回其长度。如果不存在符合条件的子数组，返回`0`。\n",
    "\n",
    "[link](https://leetcode.cn/problems/minimum-size-subarray-sum/)\n",
    "\n",
    "```python\n",
    "class Solution:\n",
    "    def minSubArrayLen(self, target: int, nums: List[int]) -> int:\n",
    "        n = len(nums)\n",
    "        preSum = [0] + list(accumulate(nums))\n",
    "        def check(guess: int) -> bool:\n",
    "            for i in range(n - guess + 1):\n",
    "                if preSum[i + guess] - preSum[i] >= target:\n",
    "                    return True\n",
    "            return False\n",
    "        res = bisect_left(range(1, n + 1), True, key=check) + 1\n",
    "        return 0 if res == n + 1 else res\n",
    "\n",
    "```"
   ]
  },
  {
   "cell_type": "markdown",
   "metadata": {},
   "source": [
    "#### 2.8.2 用bisect.insort插入新元素\n",
    "- `insort(seq, item)`\n",
    "  - 得到一个有序列表，我们希望保持其有序\n",
    "  - `insort`能在插入的同时保持有序"
   ]
  },
  {
   "cell_type": "markdown",
   "metadata": {},
   "source": [
    "### 2.9 当列表不是首选时\n",
    "\n",
    "#### 2.9.1 数组\n",
    "#### 2.9.2 内存视图\n",
    "#### 2.9.3 Numpy Scipy\n",
    "PASS"
   ]
  },
  {
   "cell_type": "markdown",
   "metadata": {},
   "source": [
    "#### 2.9.4 双向队列和其他形式的队列\n",
    "- `collections.deque` 是一个线程安全的双向队列\n",
    "  - `popleft` `pop`\n",
    "  - `appendleft` `append`"
   ]
  },
  {
   "cell_type": "code",
   "execution_count": 44,
   "metadata": {},
   "outputs": [
    {
     "name": "stdout",
     "output_type": "stream",
     "text": [
      "deque([90, 91, 92, 93, 94, 95, 96, 97, 98, 99], maxlen=10)\n",
      "deque([98, 99, 90, 91, 92, 93, 94, 95, 96, 97], maxlen=10)\n",
      "deque([99, 90, 91, 92, 93, 94, 95, 96, 97, 98], maxlen=10)\n",
      "deque([1, 99, 90, 91, 92, 93, 94, 95, 96, 97], maxlen=10)\n"
     ]
    }
   ],
   "source": [
    "from collections import deque\n",
    "dq = deque(range(100), maxlen=10)\n",
    "print(dq)\n",
    "dq.rotate(2)\n",
    "print(dq)\n",
    "dq.rotate(-1)\n",
    "print(dq)\n",
    "dq.appendleft(1)\n",
    "print(dq)"
   ]
  },
  {
   "cell_type": "markdown",
   "metadata": {},
   "source": [
    "- `heapq`比较不同，它提供`heappush`和`heappop`方法让用户把可变序列当成堆使用\n",
    "  - `heapify`将一个列表转换为一个堆"
   ]
  },
  {
   "cell_type": "code",
   "execution_count": 49,
   "metadata": {},
   "outputs": [
    {
     "name": "stdout",
     "output_type": "stream",
     "text": [
      "5\n",
      "7\n",
      "8\n",
      "10\n",
      "20\n",
      "40\n",
      "67\n"
     ]
    }
   ],
   "source": [
    "import heapq\n",
    "\n",
    "l = [10, 8, 7, 20, 40, 5, 67]\n",
    "heapq.heapify(l)\n",
    "\n",
    "while len(l):\n",
    "  print(heapq.heappop(l))"
   ]
  }
 ],
 "metadata": {
  "kernelspec": {
   "display_name": "base",
   "language": "python",
   "name": "python3"
  },
  "language_info": {
   "codemirror_mode": {
    "name": "ipython",
    "version": 3
   },
   "file_extension": ".py",
   "mimetype": "text/x-python",
   "name": "python",
   "nbconvert_exporter": "python",
   "pygments_lexer": "ipython3",
   "version": "3.11.5"
  }
 },
 "nbformat": 4,
 "nbformat_minor": 2
}
