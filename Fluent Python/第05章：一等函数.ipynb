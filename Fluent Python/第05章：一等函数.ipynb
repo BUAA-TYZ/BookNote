{
 "cells": [
  {
   "cell_type": "markdown",
   "metadata": {},
   "source": [
    "## 第05章 一等函数\n",
    "\n",
    "- 一等公民：\n",
    "  - 在运行时创建\n",
    "  - 能赋值给变量或数据结构中的元素\n",
    "  - 能作为参数传给函数\n",
    "  - 能作为函数的返回结果"
   ]
  },
  {
   "cell_type": "markdown",
   "metadata": {},
   "source": [
    "### 5.1 把函数视为对象"
   ]
  },
  {
   "cell_type": "code",
   "execution_count": 4,
   "metadata": {},
   "outputs": [
    {
     "data": {
      "text/plain": [
       "('RET: n!', function)"
      ]
     },
     "execution_count": 4,
     "metadata": {},
     "output_type": "execute_result"
    }
   ],
   "source": [
    "def factorial(n):\n",
    "  '''RET: n!'''\n",
    "  return 1 if n < 2 else n * factorial(n - 1)\n",
    "factorial.__doc__, type(factorial)"
   ]
  },
  {
   "cell_type": "code",
   "execution_count": 6,
   "metadata": {},
   "outputs": [
    {
     "data": {
      "text/plain": [
       "[1, 1, 2, 6, 24, 120, 720, 5040, 40320, 362880, 3628800]"
      ]
     },
     "execution_count": 6,
     "metadata": {},
     "output_type": "execute_result"
    }
   ],
   "source": [
    "list(map(factorial, range(11)))"
   ]
  },
  {
   "cell_type": "markdown",
   "metadata": {},
   "source": [
    "### 5.2 高阶函数\n",
    "- 接受函数为参数的函数是高阶函数"
   ]
  },
  {
   "cell_type": "markdown",
   "metadata": {},
   "source": [
    "### 5.3 匿名函数\n",
    "- 主要用于作为参数传递给函数"
   ]
  },
  {
   "cell_type": "code",
   "execution_count": 7,
   "metadata": {},
   "outputs": [
    {
     "data": {
      "text/plain": [
       "['banana', 'apple', 'fig', 'raspberry', 'strawberry', 'cherry']"
      ]
     },
     "execution_count": 7,
     "metadata": {},
     "output_type": "execute_result"
    }
   ],
   "source": [
    "fruits = ['strawberry', 'fig', 'apple', 'cherry', 'raspberry', 'banana']\n",
    "sorted(fruits, key=lambda s: s[::-1])"
   ]
  },
  {
   "cell_type": "markdown",
   "metadata": {},
   "source": [
    "#### 5.4 可调用对象\n",
    "- `callable()`函数判断是否可调用"
   ]
  },
  {
   "cell_type": "code",
   "execution_count": 8,
   "metadata": {},
   "outputs": [
    {
     "data": {
      "text/plain": [
       "[True, True, False]"
      ]
     },
     "execution_count": 8,
     "metadata": {},
     "output_type": "execute_result"
    }
   ],
   "source": [
    "[callable(obj) for obj in (str, len, 13)]"
   ]
  },
  {
   "cell_type": "markdown",
   "metadata": {},
   "source": [
    "### 5.5 用户定义的可调用类型\n",
    "- 实现`__call__`方法\n",
    "  - 类似C++的`operator::()()`"
   ]
  },
  {
   "cell_type": "markdown",
   "metadata": {},
   "source": [
    "### 5.6 函数内省\n",
    "PASS"
   ]
  },
  {
   "cell_type": "markdown",
   "metadata": {},
   "source": [
    "### 5.7 从定位参数到仅限关键字参数"
   ]
  },
  {
   "cell_type": "markdown",
   "metadata": {},
   "source": [
    "- 函数签名中不存在的关键字会被`attrs`捕获\n",
    "- `mytag`前加`**`，字典中所有的元素作为单个键被传入，同名键被绑定，余下的被`attrs`捕获"
   ]
  },
  {
   "cell_type": "code",
   "execution_count": 18,
   "metadata": {},
   "outputs": [],
   "source": [
    "def tag(name, *content, cls=None, **attrs):\n",
    "  \"\"\"生成一个或多个HTML标签\"\"\"\n",
    "  if cls is not None:\n",
    "    attrs['class'] = cls\n",
    "  if attrs:\n",
    "    attr_str = ''.join(f' {attr}=\"{value}\"' for attr, value in sorted(attrs.items()))\n",
    "  else:\n",
    "    attr_str = ''\n",
    "  if content:\n",
    "    return '\\n'.join(f'<{name}{attr_str}>{c}</{name}>' for c in content)\n",
    "  else:\n",
    "    return f'<{name}{attr_str} />'"
   ]
  },
  {
   "cell_type": "code",
   "execution_count": 21,
   "metadata": {},
   "outputs": [
    {
     "name": "stdout",
     "output_type": "stream",
     "text": [
      "<br />\n",
      "---\n",
      "<p>hello</p>\n",
      "---\n",
      "<p>hello</p>\n",
      "<p>world</p>\n",
      "---\n",
      "<p id=\"33\">hello</p>\n",
      "---\n",
      "<p class=\"sidebar\">hello</p>\n",
      "<p class=\"sidebar\">world</p>\n",
      "---\n",
      "<img content=\"testing\" />\n",
      "---\n",
      "<img class=\"framed\" src=\"sunset.jpg\" title=\"Sunset Boulevard\" />\n"
     ]
    }
   ],
   "source": [
    "print(tag('br'))\n",
    "print('---')\n",
    "print(tag('p', 'hello'))\n",
    "print('---')\n",
    "print(tag('p', 'hello', 'world'))\n",
    "print('---')\n",
    "print(tag('p', 'hello', id=33))\n",
    "print('---')\n",
    "print(tag('p', 'hello', 'world', cls='sidebar'))\n",
    "print('---')\n",
    "print(tag(content='testing', name='img'))\n",
    "print('---')\n",
    "mytag = {'name': 'img', 'title': 'Sunset Boulevard',\n",
    "'src': 'sunset.jpg', 'cls': 'framed'}\n",
    "print(tag(**mytag))"
   ]
  },
  {
   "cell_type": "markdown",
   "metadata": {},
   "source": [
    "### 5.8 获取关于参数的信息\n",
    "### 5.9 函数注解\n",
    "### 5.10 支持函数式编程的包\n",
    "PASS"
   ]
  }
 ],
 "metadata": {
  "kernelspec": {
   "display_name": "base",
   "language": "python",
   "name": "python3"
  },
  "language_info": {
   "codemirror_mode": {
    "name": "ipython",
    "version": 3
   },
   "file_extension": ".py",
   "mimetype": "text/x-python",
   "name": "python",
   "nbconvert_exporter": "python",
   "pygments_lexer": "ipython3",
   "version": "3.11.5"
  }
 },
 "nbformat": 4,
 "nbformat_minor": 2
}
