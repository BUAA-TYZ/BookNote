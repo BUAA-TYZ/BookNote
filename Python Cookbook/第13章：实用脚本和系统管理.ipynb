{
 "cells": [
  {
   "cell_type": "markdown",
   "metadata": {},
   "source": [
    "## 第13章 实用脚本和系统管理\n",
    "\n",
    "> 有很多人把 Python 当做 shell 脚本的替代，用来实现系统任务的自动化处理，比如操纵\n",
    "文件、配置系统等。本章的主要目标是描述编写脚本时常会遇到的一些任务。比如，\n",
    "解析命令行选项、操纵文件系统中的文件、获取有用的系统配置数据等。本书第 5 章\n",
    "中也包含了一些与文件和目录相关的信息。\n",
    "\n",
    "### 13.1 通过重定向、管道或输入文件来作为脚本的输入\n",
    "\n",
    "```python\n",
    "#! /f/anaconda3/python\n",
    "import fileinput\n",
    "\n",
    "with fileinput.input() as f_input: \n",
    "  for line in f_input: \n",
    "    print(line, end='') \n",
    "```\n",
    "\n",
    "- 如果将这个脚本保存并使其成为可执行的，那么就能够完成下列所有的操作并得到期望的输出:\n",
    "```shell\n",
    "$ ls | ./13.1.py # Prints a directory listing to stdout.\n",
    "$ ./13.1.py 1.txt # Reads /etc/passwd to stdout.\n",
    "$ ./13.1.py < 1.txt # Reads /etc/passwd to stdout.\n",
    "```"
   ]
  },
  {
   "cell_type": "markdown",
   "metadata": {},
   "source": [
    "### 13.2 终止程序并显示错误信息\n",
    "```python\n",
    "raise SystemExit(\"Something goes wrong!\")\n",
    "```\n",
    "- 错误信息被输出到`sys.stderr`上, 程序退出码为1\n"
   ]
  },
  {
   "cell_type": "markdown",
   "metadata": {},
   "source": [
    "### 13.3 解析命令行选项\n",
    "- `argparse`模块\n",
    "> 在每个 add_argument()调用中，参数 dest 指定了用来\n",
    "保存解析结果的属性名称。而当产生帮助信息时会用到参数 metavar。参数 action 则指\n",
    "定了与参数处理相关的行为，通常用 store 来表示存储单个值，或者用 append 来表示将\n",
    "多个值保存到一个列表中\n",
    "\n",
    "- `parser.add_argument('-p', '--pat', metavar='pattern', required=True, dest='patterns', action='append', help='text pattern to search for')`\n",
    "  - -p --pat 均可选\n",
    "  - metavar 同 help 一样用于-h\n",
    "  - required 表示一定要存在 -p\n",
    "  - dest 表示在 args中的属性名\n",
    "  - action 表示是一个列表\n",
    "\n",
    "> 一旦选项已经给出，只需要简单地执行 parser.parse()方法。这么做会处理 sys.argv 的值，\n",
    "并返回结果实例。每个命令行参数解析出的结果都会保存在由 dest 参数所指定的对应\n",
    "的属性中\n",
    "- [Example](./13.3.py)"
   ]
  },
  {
   "cell_type": "markdown",
   "metadata": {},
   "source": [
    "### 13.4 在运行时提供密码输入提示\n",
    "\n",
    "- getuser 直接读取而不是输入\n",
    "- getpass 允许我们输入密码而不显示出来\n",
    "- [Example](./13.4.py)\n",
    "\n",
    "### 13.5 获取终端大小\n",
    "\n",
    "- `os.get_terminal_size()`\n",
    "\n",
    "### 13.6 执行外部命令并获取输出\n",
    "\n",
    "- `subprocess.check_output()`\n",
    "\n",
    "> 一般来说，命令的执行不需要依赖底层 shell 的支持(例如 sh、bash 等)。相反，我们\n",
    "提供的字符串列表会传递给底层的系统命令，比如 `os.execve()`。如果希望命令通过 shell\n",
    "来解释执行，只要将命令以简单的字符串形式提供并给定参数 `shell=True` 即可。如果打\n",
    "算让 Python 执行一个涉及管道、I/O 重定向或其他特性的复杂 shell 命令时，这么做往往\n",
    "是很有用的。\n",
    "\n",
    "### 13.7 拷贝或移动文件和目录"
   ]
  },
  {
   "cell_type": "code",
   "execution_count": 11,
   "metadata": {},
   "outputs": [
    {
     "data": {
      "text/plain": [
       "'3.txt'"
      ]
     },
     "execution_count": 11,
     "metadata": {},
     "output_type": "execute_result"
    }
   ],
   "source": [
    "import shutil\n",
    "\n",
    "src = '1.txt'\n",
    "\n",
    "# Copy src to dst. (cp src dst)\n",
    "shutil.copy(src, '2.txt') \n",
    "\n",
    "# Copy files, but preserve metadata (cp -p src dst)\n",
    "shutil.copy2(src, '3.txt') \n",
    "\n",
    "# Copy directory tree (cp -R src dst)\n",
    "# shutil.copytree(src, dst) \n",
    "\n",
    "# Move src to dst (mv src dst)\n",
    "# shutil.move(src, dst) "
   ]
  },
  {
   "cell_type": "markdown",
   "metadata": {},
   "source": [
    "### 13.8 创建和解包归档文件\n",
    "PASS\n",
    "\n",
    "### 13.9 通过名称查找文件\n",
    "- `os.walk()` 返回一个生成器, 是一个三元组 (当前目录名, 当前目录下子目录名, 当前目录下文件名)\n",
    "- **上面的很多例子我们都可以直接使用 shell 命令, 然而如果考虑到可移植性, 那么使用 Python 工具是一个更好的选择。**"
   ]
  },
  {
   "cell_type": "code",
   "execution_count": 20,
   "metadata": {},
   "outputs": [
    {
     "name": "stdout",
     "output_type": "stream",
     "text": [
      "f:\\TYZ\\Note\\Python Cookbook\\.gitignore\n"
     ]
    }
   ],
   "source": [
    "import os\n",
    "\n",
    "def walk_example():\n",
    "  for (a, b, c) in os.walk('..'):\n",
    "    print(a, b, c)\n",
    "\n",
    "def findfile(start, name): \n",
    "  for relpath, dirs, files in os.walk(start): \n",
    "    if name in files: \n",
    "      full_path = os.path.join(start, relpath, name) \n",
    "      print(os.path.normpath(os.path.abspath(full_path)))\n",
    "\n",
    "# walk_example()\n",
    "findfile(os.path.abspath('..'), '.gitignore')"
   ]
  },
  {
   "cell_type": "markdown",
   "metadata": {},
   "source": [
    "### 13.13 创建一个秒表计时器\n",
    "- 参见`Fluent Python`, 通过装饰器为函数计时\n",
    "\n",
    "### 13.15 加载WEB浏览器"
   ]
  },
  {
   "cell_type": "code",
   "execution_count": 21,
   "metadata": {},
   "outputs": [
    {
     "data": {
      "text/plain": [
       "True"
      ]
     },
     "execution_count": 21,
     "metadata": {},
     "output_type": "execute_result"
    }
   ],
   "source": [
    "import webbrowser\n",
    "\n",
    "webbrowser.open('http://www.python.org')\n",
    "\n",
    "# c = webbrowser.get('firefox')\n",
    "# c.open('...')"
   ]
  },
  {
   "cell_type": "code",
   "execution_count": null,
   "metadata": {},
   "outputs": [],
   "source": []
  }
 ],
 "metadata": {
  "kernelspec": {
   "display_name": "base",
   "language": "python",
   "name": "python3"
  },
  "language_info": {
   "codemirror_mode": {
    "name": "ipython",
    "version": 3
   },
   "file_extension": ".py",
   "mimetype": "text/x-python",
   "name": "python",
   "nbconvert_exporter": "python",
   "pygments_lexer": "ipython3",
   "version": "3.11.5"
  }
 },
 "nbformat": 4,
 "nbformat_minor": 2
}
